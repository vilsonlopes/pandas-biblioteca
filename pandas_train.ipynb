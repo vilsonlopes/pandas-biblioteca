{
  "nbformat": 4,
  "nbformat_minor": 0,
  "metadata": {
    "colab": {
      "provenance": [],
      "authorship_tag": "ABX9TyNZfEYkkjdOKKk1Ybpe/Z8+",
      "include_colab_link": true
    },
    "kernelspec": {
      "name": "python3",
      "display_name": "Python 3"
    },
    "language_info": {
      "name": "python"
    }
  },
  "cells": [
    {
      "cell_type": "markdown",
      "metadata": {
        "id": "view-in-github",
        "colab_type": "text"
      },
      "source": [
        "<a href=\"https://colab.research.google.com/github/vilsonlopes/pandas-biblioteca/blob/master/pandas_train.ipynb\" target=\"_parent\"><img src=\"https://colab.research.google.com/assets/colab-badge.svg\" alt=\"Open In Colab\"/></a>"
      ]
    },
    {
      "cell_type": "code",
      "source": [
        "import pandas as pd\n",
        "\n",
        "nomes = ['Maria', 'José', 'Vilson', 'Fulano']\n",
        "sobrenomes = ['Silva', 'Tavares', 'Lopes', 'de Tal']\n",
        "\n",
        "df = pd.DataFrame({\n",
        "    'Nome': nomes,\n",
        "    'Sobrenome': sobrenomes,\n",
        "})\n",
        "\n",
        "df"
      ],
      "metadata": {
        "id": "YsFC28IXVeJ9"
      },
      "execution_count": null,
      "outputs": []
    },
    {
      "cell_type": "markdown",
      "source": [
        "# Renomeando colunas"
      ],
      "metadata": {
        "id": "GiZ_HefFcebH"
      }
    },
    {
      "cell_type": "code",
      "source": [
        "import pandas as pd\n",
        "df = pd.DataFrame({\n",
        "    'Ano': [2016, 2015, 2014, 2013, 2012, np.nan],\n",
        "    'Top Animal': ['Giant panda', 'Chicken', 'Pig', 'Turkey', 'Dog', 'Teste1'],\n",
        "})\n",
        "\n",
        "df.rename(columns={\n",
        "    'Ano': 'Calendario Anual',\n",
        "    'Top Animal': 'Animal Favorito',\n",
        "  }, inplace=True)\n",
        "df"
      ],
      "metadata": {
        "id": "8Vl1W4qiaztD"
      },
      "execution_count": null,
      "outputs": []
    },
    {
      "cell_type": "markdown",
      "source": [
        "# Series_1"
      ],
      "metadata": {
        "id": "5-S9XOB_dtKa"
      }
    },
    {
      "cell_type": "code",
      "source": [
        "import pandas as pd\n",
        "import numpy as np\n",
        "\n",
        "data = np.array(['a', 'b', 'c', 'd'])\n",
        "\n",
        "s = pd.Series(data, index=[100, 101, 102, 103])\n",
        "print(s)"
      ],
      "metadata": {
        "id": "bSek5Wk5dzSS"
      },
      "execution_count": null,
      "outputs": []
    }
  ]
}